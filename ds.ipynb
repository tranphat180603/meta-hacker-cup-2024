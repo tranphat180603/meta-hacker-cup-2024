{
 "cells": [
  {
   "cell_type": "code",
   "execution_count": 2,
   "metadata": {},
   "outputs": [
    {
     "name": "stderr",
     "output_type": "stream",
     "text": [
      "/Library/Frameworks/Python.framework/Versions/3.11/lib/python3.11/site-packages/tqdm/auto.py:21: TqdmWarning: IProgress not found. Please update jupyter and ipywidgets. See https://ipywidgets.readthedocs.io/en/stable/user_install.html\n",
      "  from .autonotebook import tqdm as notebook_tqdm\n"
     ]
    },
    {
     "data": {
      "text/plain": [
       "DatasetDict({\n",
       "    sample: Dataset({\n",
       "        features: ['name', 'year', 'round', 'statement', 'input', 'solution', 'code', 'output', 'sample_input', 'sample_output', 'images'],\n",
       "        num_rows: 10\n",
       "    })\n",
       "    full: Dataset({\n",
       "        features: ['name', 'year', 'round', 'statement', 'input', 'solution', 'code', 'output', 'sample_input', 'sample_output', 'images'],\n",
       "        num_rows: 284\n",
       "    })\n",
       "})"
      ]
     },
     "execution_count": 2,
     "metadata": {},
     "output_type": "execute_result"
    }
   ],
   "source": [
    "from datasets import load_dataset\n",
    "\n",
    "ds = load_dataset(\"hackercupai/hackercup\")\n",
    "ds"
   ]
  },
  {
   "cell_type": "code",
   "execution_count": 4,
   "metadata": {},
   "outputs": [
    {
     "name": "stdout",
     "output_type": "stream",
     "text": [
      "['new_years_resolution', 'cooking_the_books', 'laser_maze', 'lazy_sort', 'fox_socks', 'all_critical', 'autocomplete_strikes_back', 'lunch_scheduling', 'gentrification', 'boomerang', 'fox_rocks', 'fox_locks', 'fox_blocks', 'fox_lochs', 'fox_hawks', 'fox_focks', 'corporate_gifting', 'winning_at_sports', 'homework', 'autocomplete', 'lazyloading', 'progresspie', 'fightingthezombie', 'bigtop', 'rainovernewyork', 'subtlesabotage', 'fightingallthezombies', 'salientstrings', 'steadfastsnakes', 'brokenbits', 'piepackages', 'sluggishsecurity', 'holes', 'strolls', 'moles', 'poles', 'patrols', 'tolls', 'beachumbrellas', 'pieprogress', 'fightingthezombies', 'manicmoving', 'text_editor', 'high_security', 'price', 'boomerang_constellations', 'carnival_coins', 'costly_labels', 'boomerang_decoration', 'snakes_and_ladders', 'boomerang_farm', 'chess_showdown', 'boomerang_umbrella', 'public_transportation', 'matt_laundro', 'rng', 'boomerang_crews', 'rainbow_string', 'snake_and_ladder', 'grundy_graph', 'maximinimax_flow', 'laundro_matt', 'boomerang_tournament', 'coding_contest', 'yachtzee', 'meta_game', 'tower_rush', 'ready_go_part_2', 'wiki_race', 'ready_go_part_1', 'dim_sum_delivery', 'cheeseburger_corollary_ch1', 'two_apples_a_day', 'cheeseburger_corollary_ch2', 'road_to_nutella', 'spooky_splits', 'similar_ships', 'double_stars', 'krabotage', 'hash_slinger', 'cacti_cartography', 'transposing_tiles', 'dealing_decks', 'programming_paths_part_2', 'nearly_nim', 'resisting_robots', 'programming_paths_part_1', 'sum_41_ch1', 'bohemian_rap-sody', 'sum_41_ch2', 'today_is_gonna_be_a_great_day', 'here_comes_santa_claus', 'back_in_black_ch2', 'back_in_black_ch1', 'second_hands', 'second_second_meaning', 'second_second_friend', 'second_flight', 'second_friend', 'second_meaning', 'perfectly_balanced_ch2', 'balance_scale', 'work_life_balance_ch2', 'perfectly_balanced_ch1', 'balance_sheet', 'work_life_balance_ch1', 'first_time_ch2', 'zero_crossings_ch2', 'third_trie', 'second_mistake', 'fourth_player', 'zero_crossings_ch1', 'first_time_ch1', 'ml_modeling', 'alphabet_adventuring', 'hazelnut_harvesting', 'cup_counterbalancing', 'emerald_exhibiting', 'tile_transposing', 'watering_well_ch1', 'consecutive_cuts_ch2', 'lemonade_life', 'watering_well_ch2', 'consecutive_cuts_ch1', 'balanced_smileys', 'beautiful_strings', 'find_the_min', 'cake_cutting', 'permutations', 'roboelection', 'name_the_baby', 'greedy_entertainers', 'digits_war', 'minesweeping', 'archiver', 'teleports', 'colored_trees', 'dead_pixels', 'card_game', 'security', 'gold_mine_ch2', 'consistency_ch1', 'consistency_ch2', 'gold_mine_ch1', 'xs_and_os', 'valet_parking_ch2', 'runway', 'chainblock', 'string_concatenation', 'valet_parking_ch1', 'rep-ore-ting', 'expl-ore-ation_ch3', 'perf-ore-mance', 'expl-ore-ation_ch2', 'auth-ore-ization', 'expl-ore-ation_ch1', 'antisocial', 'vacation', 'table_flipping', 'hire_flyers', 'and', 'ssssss', 'traffic_control', 'weak_typing_ch2', 'weak_typing_ch3', 'weak_typing_ch1', 'blockchain', 'mr_x', 'service_trees', 'leapfrog2', 'leapfrog1', 'seafood', 'bitstrings_as_a_service', 'on_the_run', 'grading', 'renovations', 'integers_as_service', 'chain_of_command', 'light_show', 'cold_storage', 'temporal_revision', 'khajiit', 'little_boat_on_the_sea', 'scoreboard', 'strings_as_a_service', 'graphs_as_a_service', 'class_treasurer', 'connect_the_dots', 'ladders_and_snakes', 'studious_student', 'peg_game', 'double_squares', 'diminishing_circle', 'slot_machine_hacker', 'chess_2', 'scotts_new_trick', 'bonus_assignments', 'studious_student_ii', 'wine_tasting', 'turn_on_the_lights', 'diversity_number', 'party_time', 'safest_place', 'alien_game', 'polynomial_factoring', 'risky_slide', 'n_factorful', 'alchemy', 'travel_restrictions', 'timber', 'running_on_fumes_ch2', 'running_on_fumes_ch1', 'elimination', 'log_drivin_hirin', 'capastaty', 'circular_circles', 'railroad_renovations', 'smart_carts', 'mail_security', 'chain_explosions', 'cryptoconference', 'tree_training', 'spider_spring', 'somebody_elses_problem', 'cake_cutting_committee', 'pond_precipitation', 'quarantine', 'dislodging_logs', 'perimetric_ch1', 'perimetric_ch3', 'perimetric_ch2', 'billboards', 'alphabet_soup', 'auction', 'road_removal', 'monopoly', 'sequence_slicing', 'divisor_function_optimization', 'trapezoids', 'unfriending', 'linsane_phone_numbers', 'possible_medians', 'maximal_multiplicative_order', 'checkpoint', 'recover_the_sequence', 'squished_status', 'ethanstring', 'interception', 'tourist', 'fossil_fuels', 'jacks_candy_shop', 'ethan_path', 'replay_value', 'finshakes', 'ethan_max_subarray', 'jammin', 'graph_gift', 'claw', 'ethan', 'contest', 'personal', 'stockholm', 'citylights', 'ethantree', 'platform', 'letitflow', 'evening', 'square_detector', 'tennison', 'basketball_game', 'holdem_numbers', 'ski_resort_planning', 'magic_pairs', 'pizza_baking', 'restaurant_chains', 'secret_santa', 'intervals_of_love', 'fortunate_wheels', 'lunch_at_facebook', 'tours', 'coins_game', 'preventing_alzheimers', 'aaaaaa', 'labelmaker']\n"
     ]
    }
   ],
   "source": [
    "print(len(ds['full']['name']))"
   ]
  },
  {
   "cell_type": "code",
   "execution_count": 18,
   "metadata": {},
   "outputs": [
    {
     "name": "stdout",
     "output_type": "stream",
     "text": [
      "Error detected:\n",
      "Error occurred on line 16:\n",
      "Code: A = int(input())\n",
      "Exception: ValueError: invalid literal for int() with base 10: '2 3 5'\n",
      "Traceback:\n",
      "  File \"C:\\Users\\PC\\AppData\\Local\\Temp\\ipykernel_21784\\480169526.py\", line 25, in run_extracted_code\n",
      "    exec(code_obj, local_scope)\n",
      "  File \"<string>\", line 25, in <module>\n",
      "  File \"<string>\", line 16, in solve_problem\n",
      "\n"
     ]
    }
   ],
   "source": [
    "import io\n",
    "import sys\n",
    "import traceback\n",
    "import contextlib\n",
    "from unittest.mock import patch\n",
    "\n",
    "def run_extracted_code(extracted_code, test_input):\n",
    "    output = io.StringIO()\n",
    "    error = None\n",
    "    test_input_lines = [line.strip() for line in test_input.strip().split('\\n') if line.strip()]\n",
    "\n",
    "    def mock_input():\n",
    "        if not test_input_lines:\n",
    "            raise ValueError(\"Not enough input data provided\")\n",
    "        return test_input_lines.pop(0)\n",
    "\n",
    "    local_scope = {'__name__': '__main__'}\n",
    "    \n",
    "    with patch('builtins.input', mock_input), contextlib.redirect_stdout(output):\n",
    "        try:\n",
    "            # Compile the code object\n",
    "            code_obj = compile(extracted_code, '<string>', 'exec')\n",
    "            \n",
    "            # Execute the compiled code\n",
    "            exec(code_obj, local_scope)\n",
    "            \n",
    "        except Exception as e:\n",
    "            exc_type, exc_value, exc_traceback = sys.exc_info()\n",
    "            \n",
    "            # Get the line number where the error occurred\n",
    "            tb = traceback.extract_tb(exc_traceback)\n",
    "            line_no = tb[-1].lineno\n",
    "            \n",
    "            # Get the line of code that caused the error\n",
    "            code_lines = extracted_code.split('\\n')\n",
    "            error_line = code_lines[line_no - 1] if line_no <= len(code_lines) else \"Unknown\"\n",
    "            \n",
    "            error = f\"Error occurred on line {line_no}:\\n\"\n",
    "            error += f\"Code: {error_line.strip()}\\n\"\n",
    "            error += f\"Exception: {exc_type.__name__}: {str(exc_value)}\\n\"\n",
    "            error += \"Traceback:\\n\"\n",
    "            error += ''.join(traceback.format_tb(exc_traceback))\n",
    "\n",
    "    return output.getvalue(), error\n",
    "\n",
    "\n",
    "# Example usage\n",
    "extracted_code = \"\"\"\n",
    "def max_decker_cheeseburgers(A, B, C):\n",
    "    n = A + B * 2\n",
    "    dp = [0] * (n + 1)\n",
    "    for i in range(1, n + 1):\n",
    "        if i >= A:\n",
    "            dp[i] = max(dp[i], dp[i - A] + 1)\n",
    "        if i >= B * 2:\n",
    "            dp[i] = max(dp[i], dp[i - B * 2] + 2)\n",
    "    return dp[n]\n",
    "\n",
    "def solve_problem():\n",
    "    T = int(input())\n",
    "    results = []\n",
    "    for t in range(1, T + 1):\n",
    "        A = int(input())\n",
    "        B = int(input())\n",
    "        C = int(input())\n",
    "        result = max_decker_cheeseburgers(A, B, C)\n",
    "        results.append(f'Case #{t}: {result}')\n",
    "    for result in results:\n",
    "        print(result)\n",
    "    \n",
    "if __name__ == \"__main__\":\n",
    "    solve_problem()\n",
    "\"\"\"\n",
    "\n",
    "\n",
    "test_input = \"\"\"\n",
    "6\n",
    "2 3 5\n",
    "2 3 2\n",
    "2 3 1\n",
    "5 1 100\n",
    "1 3 100\n",
    "1 1 1000000000000\n",
    "\n",
    "\"\"\"\n",
    "\n",
    "output, error = run_extracted_code(extracted_code, test_input)\n",
    "if error:\n",
    "    print(\"Error detected:\")\n",
    "    print(error)\n",
    "else:\n",
    "    print(\"Output:\")\n",
    "    print(output)"
   ]
  },
  {
   "cell_type": "code",
   "execution_count": 43,
   "metadata": {},
   "outputs": [],
   "source": [
    "code_solution = {\n",
    "  \"solution_code\": {\n",
    "    \"language\": \"Python\",\n",
    "    \"error_line\": \"if __name__ == '__main__':\",\n",
    "    \"code\": \"def max_k_deck_burgers(C):\\n    return C // 2\\n\\ndef main():\\n    T = int(input())\\n    results = []\\n    for _ in range(T):\\n        C = int(input())\\n        results.append(f\\\"Case # {_ + 1}: {max_k_deck_burgers(C)}\\\")\\n    print('\\\\n'.join(results))\\n\\nif __name__ == '__main__':\\n    main()\",\n",
    "    \"improvement\": \"Ensured the `if __name__ == '__main__':` block is correctly placed to execute the main function when the script is run directly. No changes were made to the `input()` function usage as per the guidelines.\"\n",
    "  }\n",
    "}\n",
    "\n",
    "def extract_python_code(response):\n",
    "    return response"
   ]
  },
  {
   "cell_type": "code",
   "execution_count": 46,
   "metadata": {},
   "outputs": [
    {
     "data": {
      "text/plain": [
       "'def max_k_deck_burgers(C):\\n    return C // 2\\n\\ndef main():\\n    T = int(input())\\n    results = []\\n    for _ in range(T):\\n        C = int(input())\\n        results.append(f\"Case # {_ + 1}: {max_k_deck_burgers(C)}\")\\n    print(\\'\\\\n\\'.join(results))\\n\\nif __name__ == \\'__main__\\':\\n    main()'"
      ]
     },
     "execution_count": 46,
     "metadata": {},
     "output_type": "execute_result"
    }
   ],
   "source": [
    "generated_code = extract_python_code(code_solution['solution_code']['code'])\n",
    "generated_code"
   ]
  },
  {
   "cell_type": "code",
   "execution_count": 68,
   "metadata": {},
   "outputs": [],
   "source": [
    "def check_code_structure(extracted_code):\n",
    "    # Check if the phrase \"__name__ == '__main__'\" or '__name__ == \"__main__\"' is present in the code\n",
    "    if \"__name__ == '__main__'\" not in extracted_code:\n",
    "        return False, \"Missing `if __name__ == '__main__':` block.\"\n",
    "    \n",
    "    return True, None"
   ]
  },
  {
   "cell_type": "code",
   "execution_count": 73,
   "metadata": {},
   "outputs": [
    {
     "name": "stdout",
     "output_type": "stream",
     "text": [
      "\n"
     ]
    }
   ],
   "source": [
    "def read_data():\n",
    "    return list(map(int, input().split()))\n",
    "\n",
    "def max_k_decker_cheeseburgers(budget):\n",
    "    if budget < 2:\n",
    "        return 0\n",
    "    dp = [float('inf')] * (budget + 1)\n",
    "    dp[0] = 0\n",
    "    dp[2] = 1\n",
    "    for i in range(4, budget + 1, 2):\n",
    "        dp[i] = min(dp[i], dp[i - 2] + 1)\n",
    "    for i in range(6, budget + 1, 2):\n",
    "        dp[i] = min(dp[i], dp[i - 4] + 2)\n",
    "    return dp[budget]\n",
    "\n",
    "def solve_test_case(budget):\n",
    "    return max_k_decker_cheeseburgers(budget)\n",
    "\n",
    "def generate_results(num_tests, results):\n",
    "    return [f\"Case #{i + 1}: {results[i]}\" for i in range(min(num_tests, len(results)))]\n",
    "\n",
    "def main():\n",
    "    data = read_data()\n",
    "    num_tests = data[0]\n",
    "    results = []\n",
    "    index = 1\n",
    "    while index < len(data):\n",
    "        budget = data[index]\n",
    "        index += 1\n",
    "        if budget >= 0:\n",
    "            result = solve_test_case(budget)\n",
    "            results.append(result)\n",
    "        else:\n",
    "            break\n",
    "    print('\\n'.join(generate_results(num_tests, results)))\n",
    "\n",
    "if __name__ == '__main__':\n",
    "    main()"
   ]
  },
  {
   "cell_type": "code",
   "execution_count": 72,
   "metadata": {},
   "outputs": [
    {
     "name": "stdout",
     "output_type": "stream",
     "text": [
      "Extracted code: \n",
      "def main():\n",
      "    import sys\n",
      "    input = sys.stdin.read\n",
      "    data = input().split()\n",
      "    num_tests = int(data[0])\n",
      "    results = []\n",
      "    index = 1\n",
      "    for _ in range(num_tests):\n",
      "        budget = int(data[index])\n",
      "        index += 1\n",
      "        result = calculate_max_decks(budget)\n",
      "        results.append(f\"Case #{len(results) + 1}: {result}\")\n",
      "    print('\n",
      "'.join(results))\n",
      "\n",
      "if __name__ == '__main__':\n",
      "    main()\n",
      "\n"
     ]
    },
    {
     "data": {
      "text/plain": [
       "(True, None)"
      ]
     },
     "execution_count": 72,
     "metadata": {},
     "output_type": "execute_result"
    }
   ],
   "source": [
    "check_code_structure(extracted_code)"
   ]
  },
  {
   "cell_type": "code",
   "execution_count": null,
   "metadata": {},
   "outputs": [],
   "source": []
  }
 ],
 "metadata": {
  "kernelspec": {
   "display_name": "Python 3",
   "language": "python",
   "name": "python3"
  },
  "language_info": {
   "codemirror_mode": {
    "name": "ipython",
    "version": 3
   },
   "file_extension": ".py",
   "mimetype": "text/x-python",
   "name": "python",
   "nbconvert_exporter": "python",
   "pygments_lexer": "ipython3",
   "version": "3.11.4"
  }
 },
 "nbformat": 4,
 "nbformat_minor": 2
}

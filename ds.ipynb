{
 "cells": [
  {
   "cell_type": "code",
   "execution_count": 4,
   "metadata": {},
   "outputs": [
    {
     "data": {
      "text/plain": [
       "DatasetDict({\n",
       "    sample: Dataset({\n",
       "        features: ['name', 'year', 'round', 'statement', 'input', 'solution', 'code', 'output', 'sample_input', 'sample_output', 'images'],\n",
       "        num_rows: 10\n",
       "    })\n",
       "    full: Dataset({\n",
       "        features: ['name', 'year', 'round', 'statement', 'input', 'solution', 'code', 'output', 'sample_input', 'sample_output', 'images'],\n",
       "        num_rows: 284\n",
       "    })\n",
       "})"
      ]
     },
     "execution_count": 4,
     "metadata": {},
     "output_type": "execute_result"
    }
   ],
   "source": [
    "from datasets import load_dataset\n",
    "\n",
    "ds = load_dataset(\"hackercupai/hackercup\")\n",
    "ds"
   ]
  },
  {
   "cell_type": "code",
   "execution_count": 14,
   "metadata": {},
   "outputs": [
    {
     "name": "stdout",
     "output_type": "stream",
     "text": [
      "meta_game\n",
      "tower_rush\n",
      "ready_go_part_2\n",
      "wiki_race\n",
      "ready_go_part_1\n",
      "dim_sum_delivery\n",
      "cheeseburger_corollary_ch1\n",
      "two_apples_a_day\n",
      "cheeseburger_corollary_ch2\n",
      "road_to_nutella\n"
     ]
    }
   ],
   "source": [
    "for split_name, dataset in ds.items():\n",
    "    if split_name == 'sample':\n",
    "        for x in dataset:\n",
    "            print(x['name'])"
   ]
  },
  {
   "cell_type": "code",
   "execution_count": 70,
   "metadata": {},
   "outputs": [
    {
     "name": "stdout",
     "output_type": "stream",
     "text": [
      "Output:\n",
      "\n"
     ]
    }
   ],
   "source": [
    "import io\n",
    "import sys\n",
    "import traceback\n",
    "import contextlib\n",
    "from unittest.mock import patch\n",
    "\n",
    "def run_extracted_code(extracted_code, test_input):\n",
    "    output = io.StringIO()\n",
    "    error = None\n",
    "    test_input_lines = [line.strip() for line in test_input.strip().split('\\n') if line.strip()]\n",
    "\n",
    "    def mock_input():\n",
    "        if not test_input_lines:\n",
    "            raise ValueError(\"Not enough input data provided\")\n",
    "        return test_input_lines.pop(0)\n",
    "\n",
    "    local_scope = {}\n",
    "    \n",
    "    with patch('builtins.input', mock_input), contextlib.redirect_stdout(output):\n",
    "        try:\n",
    "            # Compile the code object\n",
    "            code_obj = compile(extracted_code, '<string>', 'exec')\n",
    "            \n",
    "            # Execute the compiled code\n",
    "            exec(code_obj, local_scope)\n",
    "            \n",
    "            # If there's a main function, call it\n",
    "            if 'main' in local_scope:\n",
    "                local_scope['main']()\n",
    "        except Exception as e:\n",
    "            exc_type, exc_value, exc_traceback = sys.exc_info()\n",
    "            \n",
    "            # Get the line number where the error occurred\n",
    "            tb = traceback.extract_tb(exc_traceback)\n",
    "            line_no = tb[-1].lineno\n",
    "            \n",
    "            # Get the line of code that caused the error\n",
    "            code_lines = extracted_code.split('\\n')\n",
    "            error_line = code_lines[line_no - 1] if line_no <= len(code_lines) else \"Unknown\"\n",
    "            \n",
    "            error = f\"Error occurred on line {line_no}:\\n\"\n",
    "            error += f\"Code: {error_line.strip()}\\n\"\n",
    "            error += f\"Exception: {exc_type.__name__}: {str(exc_value)}\\n\"\n",
    "            error += \"Traceback:\\n\"\n",
    "            error += ''.join(traceback.format_tb(exc_traceback))\n",
    "\n",
    "    return output.getvalue(), error\n",
    "\n",
    "# Example usage\n",
    "extracted_code = \"\"\"\n",
    "def max_decker_cheeseburgers(A, B, C):\n",
    "    n = A + B * 2\n",
    "    dp = [0] * (n + 1)\n",
    "    for i in range(1, n + 1):\n",
    "        if i >= A:\n",
    "            dp[i] = max(dp[i], dp[i - A] + 1)\n",
    "        if i >= B * 2:\n",
    "            dp[i] = max(dp[i], dp[i - B * 2] + 2)\n",
    "    return dp[n]\n",
    "\n",
    "def solve_problem():\n",
    "    T = int(input())\n",
    "    results = []\n",
    "    for t in range(1, T + 1):\n",
    "        A = int(input())\n",
    "        B = int(input())\n",
    "        C = int(input())\n",
    "        result = max_decker_cheeseburgers(A, B, C)\n",
    "        results.append(f'Case #{t}: {result}')\n",
    "    for result in results:\n",
    "        print(result)\n",
    "    \n",
    "if __name__ == \"__main__\":\n",
    "    solve_problem()\n",
    "\n",
    "\"\"\"\n",
    "\n",
    "\n",
    "test_input = \"\"\"\n",
    "6\n",
    "2 3 5\n",
    "2 3 2\n",
    "2 3 1\n",
    "5 1 100\n",
    "1 3 100\n",
    "1 1 1000000000000\n",
    "\n",
    "\"\"\"\n",
    "\n",
    "output, error = run_extracted_code(extracted_code, test_input)\n",
    "if error:\n",
    "    print(\"Error detected:\")\n",
    "    print(error)\n",
    "else:\n",
    "    print(\"Output:\")\n",
    "    print(output)"
   ]
  }
 ],
 "metadata": {
  "kernelspec": {
   "display_name": "Python 3",
   "language": "python",
   "name": "python3"
  },
  "language_info": {
   "codemirror_mode": {
    "name": "ipython",
    "version": 3
   },
   "file_extension": ".py",
   "mimetype": "text/x-python",
   "name": "python",
   "nbconvert_exporter": "python",
   "pygments_lexer": "ipython3",
   "version": "3.11.4"
  }
 },
 "nbformat": 4,
 "nbformat_minor": 2
}

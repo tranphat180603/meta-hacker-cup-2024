{
 "cells": [
  {
   "cell_type": "code",
   "execution_count": 2,
   "metadata": {},
   "outputs": [
    {
     "name": "stderr",
     "output_type": "stream",
     "text": [
      "/Library/Frameworks/Python.framework/Versions/3.11/lib/python3.11/site-packages/tqdm/auto.py:21: TqdmWarning: IProgress not found. Please update jupyter and ipywidgets. See https://ipywidgets.readthedocs.io/en/stable/user_install.html\n",
      "  from .autonotebook import tqdm as notebook_tqdm\n"
     ]
    },
    {
     "data": {
      "text/plain": [
       "DatasetDict({\n",
       "    sample: Dataset({\n",
       "        features: ['name', 'year', 'round', 'statement', 'input', 'solution', 'code', 'output', 'sample_input', 'sample_output', 'images'],\n",
       "        num_rows: 10\n",
       "    })\n",
       "    full: Dataset({\n",
       "        features: ['name', 'year', 'round', 'statement', 'input', 'solution', 'code', 'output', 'sample_input', 'sample_output', 'images'],\n",
       "        num_rows: 284\n",
       "    })\n",
       "})"
      ]
     },
     "execution_count": 2,
     "metadata": {},
     "output_type": "execute_result"
    }
   ],
   "source": [
    "from datasets import load_dataset\n",
    "\n",
    "ds = load_dataset(\"hackercupai/hackercup\")\n",
    "ds"
   ]
  },
  {
   "cell_type": "code",
   "execution_count": 6,
   "metadata": {},
   "outputs": [
    {
     "data": {
      "text/plain": [
       "['meta_game',\n",
       " 'tower_rush',\n",
       " 'ready_go_part_2',\n",
       " 'wiki_race',\n",
       " 'ready_go_part_1',\n",
       " 'dim_sum_delivery',\n",
       " 'cheeseburger_corollary_ch1',\n",
       " 'two_apples_a_day',\n",
       " 'cheeseburger_corollary_ch2',\n",
       " 'road_to_nutella']"
      ]
     },
     "execution_count": 6,
     "metadata": {},
     "output_type": "execute_result"
    }
   ],
   "source": [
    "ds['sample']['name']"
   ]
  },
  {
   "cell_type": "code",
   "execution_count": 25,
   "metadata": {},
   "outputs": [
    {
     "name": "stdout",
     "output_type": "stream",
     "text": [
      "Output:\n",
      "123\n",
      "\n"
     ]
    }
   ],
   "source": [
    "import io\n",
    "import sys\n",
    "import traceback\n",
    "import contextlib\n",
    "from unittest.mock import patch\n",
    "\n",
    "def check_code_structure(extracted_code):\n",
    "    # Check if the phrase \"__name__ == '__main__'\" is present in the code\n",
    "    if \"__name__ == '__main__'\" not in extracted_code:\n",
    "        return False, \"Missing `if __name__ == '__main__':` block.\"\n",
    "    return True, None\n",
    "\n",
    "def run_extracted_code(extracted_code, test_input):\n",
    "    # Check if the structure of the code is valid\n",
    "    is_valid, error_message = check_code_structure(extracted_code)\n",
    "    \n",
    "    # Output and Error containers\n",
    "    output = io.StringIO()\n",
    "    error = None\n",
    "    test_input_lines = [line.strip() for line in test_input.strip().split('\\n') if line.strip()]\n",
    "    \n",
    "    def mock_input():\n",
    "        if not test_input_lines:\n",
    "            raise ValueError(\"Not enough input data provided\")\n",
    "        return test_input_lines.pop(0)\n",
    "\n",
    "    with patch('builtins.input', mock_input), contextlib.redirect_stdout(output):\n",
    "        try:\n",
    "            # Compile the code object\n",
    "            code_obj = compile(extracted_code, '<string>', 'exec')\n",
    "            \n",
    "            if is_valid:\n",
    "                # If `if __name__ == '__main__'` exists, use local scope simulating standalone script behavior\n",
    "                local_scope = {'__name__': '__main__'}\n",
    "                exec(code_obj, local_scope)\n",
    "            else:\n",
    "                # Execute in the global scope if `if __name__ == '__main__'` is not present\n",
    "                exec(extracted_code)\n",
    "\n",
    "        except Exception as e:\n",
    "            exc_type, exc_value, exc_traceback = sys.exc_info()\n",
    "            \n",
    "            # Get the line number where the error occurred\n",
    "            tb = traceback.extract_tb(exc_traceback)\n",
    "            line_no = tb[-1].lineno\n",
    "            \n",
    "            # Get the line of code that caused the error\n",
    "            code_lines = extracted_code.split('\\n')\n",
    "            error_line = code_lines[line_no - 1] if line_no <= len(code_lines) else \"Unknown\"\n",
    "            \n",
    "            error = f\"Error occurred on line {line_no}: \"\n",
    "            error += f\"{error_line.strip()}\\n\"\n",
    "            error += f\"Exception: {exc_type.__name__}: {str(exc_value)}\\n\"\n",
    "            return None, error\n",
    "\n",
    "    result = output.getvalue()\n",
    "    \n",
    "    # Check if the result is empty and return an appropriate error\n",
    "    if not result.strip():\n",
    "        return None, \"Error: Code did not produce any output.\"\n",
    "\n",
    "    return result, error\n",
    "\n",
    "\n",
    "\n",
    "\n",
    "# Example usage\n",
    "extracted_code = \"\"\"\n",
    "def read_int():\n",
    "    return int(input())\n",
    "\n",
    "def read_ints():\n",
    "    return map(int, input().split())\n",
    "\n",
    "def solve(s, d, k):\n",
    "    print(123)\n",
    "\n",
    "solve(3,4,5)\n",
    "\"\"\"\n",
    "\n",
    "\n",
    "test_input = \"\"\"\n",
    "7\n",
    "1 1 3\n",
    "0 2 4\n",
    "5 5 1\n",
    "0 1 1\n",
    "1 1 2\n",
    "97 1 99\n",
    "97 1 100\n",
    "\n",
    "\n",
    "\"\"\"\n",
    "\n",
    "output, error = run_extracted_code(extracted_code, test_input)\n",
    "if error:\n",
    "    print(\"Error detected:\")\n",
    "    print(error)\n",
    "else:\n",
    "    print(\"Output:\")\n",
    "    print(output)"
   ]
  },
  {
   "cell_type": "code",
   "execution_count": 7,
   "metadata": {},
   "outputs": [
    {
     "name": "stdout",
     "output_type": "stream",
     "text": [
      "['YES', 'NO', 'YES', 'NO']\n"
     ]
    },
    {
     "ename": "AttributeError",
     "evalue": "'list' object has no attribute 'split'",
     "output_type": "error",
     "traceback": [
      "\u001b[1;31m---------------------------------------------------------------------------\u001b[0m",
      "\u001b[1;31mAttributeError\u001b[0m                            Traceback (most recent call last)",
      "Cell \u001b[1;32mIn[7], line 102\u001b[0m\n\u001b[0;32m     93\u001b[0m     \u001b[38;5;28;01mreturn\u001b[39;00m score, error, generated_output, failed_cases\n\u001b[0;32m     96\u001b[0m test_output \u001b[38;5;241m=\u001b[39m \u001b[38;5;124m\"\"\"\u001b[39m\n\u001b[0;32m     97\u001b[0m \u001b[38;5;124mYES\u001b[39m\n\u001b[0;32m     98\u001b[0m \u001b[38;5;124mNO\u001b[39m\n\u001b[0;32m     99\u001b[0m \u001b[38;5;124mYES\u001b[39m\n\u001b[0;32m    100\u001b[0m \u001b[38;5;124mNO\u001b[39m\n\u001b[0;32m    101\u001b[0m \u001b[38;5;124m\"\"\"\u001b[39m\n\u001b[1;32m--> 102\u001b[0m score, error, generated_output, failed_cases \u001b[38;5;241m=\u001b[39m \u001b[43mevaluate_generated_code_on_test_cases\u001b[49m\u001b[43m(\u001b[49m\u001b[43mextracted_code\u001b[49m\u001b[43m,\u001b[49m\u001b[43m \u001b[49m\u001b[43mtest_input\u001b[49m\u001b[43m,\u001b[49m\u001b[43m \u001b[49m\u001b[43mtest_output\u001b[49m\u001b[43m)\u001b[49m\n",
      "Cell \u001b[1;32mIn[7], line 87\u001b[0m, in \u001b[0;36mevaluate_generated_code_on_test_cases\u001b[1;34m(extracted_code, test_input, test_output)\u001b[0m\n\u001b[0;32m     84\u001b[0m     \u001b[38;5;28;01mreturn\u001b[39;00m \u001b[38;5;241m0\u001b[39m, error, generated_output, []\n\u001b[0;32m     86\u001b[0m \u001b[38;5;66;03m# Compare the generated output with expected output\u001b[39;00m\n\u001b[1;32m---> 87\u001b[0m score, failed_cases \u001b[38;5;241m=\u001b[39m \u001b[43mcompare_with_expected_output\u001b[49m\u001b[43m(\u001b[49m\u001b[43mgenerated_output\u001b[49m\u001b[43m,\u001b[49m\u001b[43m \u001b[49m\u001b[43mtest_output\u001b[49m\u001b[43m)\u001b[49m\n\u001b[0;32m     89\u001b[0m \u001b[38;5;28;01mif\u001b[39;00m failed_cases:\n\u001b[0;32m     90\u001b[0m     error_msg \u001b[38;5;241m=\u001b[39m \u001b[38;5;124mf\u001b[39m\u001b[38;5;124m\"\u001b[39m\u001b[38;5;124mTest cases failed: \u001b[39m\u001b[38;5;132;01m{\u001b[39;00mfailed_cases\u001b[38;5;132;01m}\u001b[39;00m\u001b[38;5;124m\"\u001b[39m\n",
      "Cell \u001b[1;32mIn[7], line 59\u001b[0m, in \u001b[0;36mcompare_with_expected_output\u001b[1;34m(generated_output, expected_output)\u001b[0m\n\u001b[0;32m     57\u001b[0m expected_output_lines \u001b[38;5;241m=\u001b[39m expected_output\u001b[38;5;241m.\u001b[39mstrip()\u001b[38;5;241m.\u001b[39msplitlines()\n\u001b[0;32m     58\u001b[0m \u001b[38;5;28mprint\u001b[39m(expected_output_lines)\n\u001b[1;32m---> 59\u001b[0m expected_output_lines \u001b[38;5;241m=\u001b[39m \u001b[43mexpected_output_lines\u001b[49m\u001b[38;5;241;43m.\u001b[39;49m\u001b[43msplit\u001b[49m(\u001b[38;5;124m\"\u001b[39m\u001b[38;5;124m:\u001b[39m\u001b[38;5;124m\"\u001b[39m)[\u001b[38;5;241m-\u001b[39m\u001b[38;5;241m1\u001b[39m]\n\u001b[0;32m     61\u001b[0m total_cases \u001b[38;5;241m=\u001b[39m \u001b[38;5;28mlen\u001b[39m(expected_output_lines)\n\u001b[0;32m     62\u001b[0m matching_cases \u001b[38;5;241m=\u001b[39m \u001b[38;5;241m0\u001b[39m\n",
      "\u001b[1;31mAttributeError\u001b[0m: 'list' object has no attribute 'split'"
     ]
    }
   ],
   "source": [
    "def check_code_structure(extracted_code):\n",
    "    # Check if the phrase \"__name__ == '__main__'\" or '__name__ == \"__main__\"' is present in the code\n",
    "    if \"__name__ == '__main__'\" not in extracted_code:\n",
    "        return False, \"Missing `if __name__ == '__main__':` block.\"\n",
    "    \n",
    "    return True, None\n",
    "\n",
    "def run_extracted_code(extracted_code, test_input):\n",
    "    # Check if the structure of the code is valid\n",
    "    is_valid, error_message = check_code_structure(extracted_code)\n",
    "    if not is_valid:\n",
    "        return None, f\"Code structure error: {error_message}\"\n",
    "    \n",
    "    output = io.StringIO()\n",
    "    error = None\n",
    "    test_input_lines = [line.strip() for line in test_input.strip().split('\\n') if line.strip()]\n",
    "\n",
    "    def mock_input():\n",
    "        if not test_input_lines:\n",
    "            raise ValueError(\"Not enough input data provided\")\n",
    "        return test_input_lines.pop(0)\n",
    "\n",
    "    local_scope = {'__name__': '__main__'}\n",
    "    \n",
    "    with patch('builtins.input', mock_input), contextlib.redirect_stdout(output):\n",
    "        try:\n",
    "            # Compile the code object\n",
    "            code_obj = compile(extracted_code, '<string>', 'exec')\n",
    "            \n",
    "            # Execute the compiled code\n",
    "            exec(code_obj, local_scope)\n",
    "            \n",
    "        except Exception as e:\n",
    "            exc_type, exc_value, exc_traceback = sys.exc_info()\n",
    "            \n",
    "            # Get the line number where the error occurred\n",
    "            tb = traceback.extract_tb(exc_traceback)\n",
    "            line_no = tb[-1].lineno\n",
    "            \n",
    "            # Get the line of code that caused the error\n",
    "            code_lines = extracted_code.split('\\n')\n",
    "            error_line = code_lines[line_no - 1] if line_no <= len(code_lines) else \"Unknown\"\n",
    "            \n",
    "            error = f\"Error occurred on line {line_no}: \"\n",
    "            error += f\"{error_line.strip()}\\n\"\n",
    "            error += f\"Exception: {exc_type.__name__}: {str(exc_value)}\\n\"\n",
    "\n",
    "    return output.getvalue(), error\n",
    "\n",
    "# Compare the output generated by the code with the expected output\n",
    "def compare_with_expected_output(generated_output, expected_output):\n",
    "    # Check if either output is None\n",
    "    if generated_output is None:\n",
    "        return 0, [\"Generated output is None\"]\n",
    "\n",
    "    generated_output_lines = generated_output.strip().splitlines()\n",
    "    expected_output_lines = expected_output.strip().splitlines()\n",
    "    print(expected_output_lines)\n",
    "    expected_output_lines = expected_output_lines.split(\":\")[-1]\n",
    "\n",
    "    total_cases = len(expected_output_lines)\n",
    "    matching_cases = 0\n",
    "    failed_cases = []\n",
    "\n",
    "    for i, (generated_line, expected_line) in enumerate(zip(generated_output_lines, expected_output_lines), start=1):\n",
    "        if generated_line.strip() == expected_line.strip():\n",
    "            matching_cases += 1\n",
    "        else:\n",
    "            failed_cases.append(f\"Test Case #{i}: Expected '{expected_line}' but got '{generated_line}'\")\n",
    "\n",
    "    score = (matching_cases / total_cases) * 100 if total_cases > 0 else 0\n",
    "    return score, failed_cases\n",
    "\n",
    "# Evaluate generated code on test cases\n",
    "def evaluate_generated_code_on_test_cases(extracted_code, test_input, test_output):\n",
    "    # Run the code and get the output\n",
    "    generated_output, error = run_extracted_code(extracted_code, test_input)\n",
    "    \n",
    "    if generated_output is None or generated_output.strip() == \"\":\n",
    "        return 0, error or \"Error: The code ran without any problem. There's no error in parsing the input. But it produces no output. Please check the entire code again.\", generated_output, []\n",
    "    \n",
    "    # If there's an error, return it\n",
    "    if error:\n",
    "        return 0, error, generated_output, []\n",
    "\n",
    "    # Compare the generated output with expected output\n",
    "    score, failed_cases = compare_with_expected_output(generated_output, test_output)\n",
    "    \n",
    "    if failed_cases:\n",
    "        error_msg = f\"Test cases failed: {failed_cases}\"\n",
    "        return score, error_msg, generated_output, failed_cases\n",
    "\n",
    "    return score, error, generated_output, failed_cases\n",
    "\n",
    "\n",
    "test_output = \"\"\"\n",
    "YES\n",
    "NO\n",
    "YES\n",
    "NO\n",
    "\"\"\"\n",
    "score, error, generated_output, failed_cases = evaluate_generated_code_on_test_cases(extracted_code, test_input, test_output)\n"
   ]
  },
  {
   "cell_type": "code",
   "execution_count": 46,
   "metadata": {},
   "outputs": [
    {
     "data": {
      "text/plain": [
       "'def max_k_deck_burgers(C):\\n    return C // 2\\n\\ndef main():\\n    T = int(input())\\n    results = []\\n    for _ in range(T):\\n        C = int(input())\\n        results.append(f\"Case # {_ + 1}: {max_k_deck_burgers(C)}\")\\n    print(\\'\\\\n\\'.join(results))\\n\\nif __name__ == \\'__main__\\':\\n    main()'"
      ]
     },
     "execution_count": 46,
     "metadata": {},
     "output_type": "execute_result"
    }
   ],
   "source": [
    "generated_code = extract_python_code(code_solution['solution_code']['code'])\n",
    "generated_code"
   ]
  },
  {
   "cell_type": "code",
   "execution_count": 68,
   "metadata": {},
   "outputs": [],
   "source": [
    "def check_code_structure(extracted_code):\n",
    "    # Check if the phrase \"__name__ == '__main__'\" or '__name__ == \"__main__\"' is present in the code\n",
    "    if \"__name__ == '__main__'\" not in extracted_code:\n",
    "        return False, \"Missing `if __name__ == '__main__':` block.\"\n",
    "    \n",
    "    return True, None"
   ]
  },
  {
   "cell_type": "code",
   "execution_count": 73,
   "metadata": {},
   "outputs": [
    {
     "name": "stdout",
     "output_type": "stream",
     "text": [
      "\n"
     ]
    }
   ],
   "source": [
    "def read_data():\n",
    "    return list(map(int, input().split()))\n",
    "\n",
    "def max_k_decker_cheeseburgers(budget):\n",
    "    if budget < 2:\n",
    "        return 0\n",
    "    dp = [float('inf')] * (budget + 1)\n",
    "    dp[0] = 0\n",
    "    dp[2] = 1\n",
    "    for i in range(4, budget + 1, 2):\n",
    "        dp[i] = min(dp[i], dp[i - 2] + 1)\n",
    "    for i in range(6, budget + 1, 2):\n",
    "        dp[i] = min(dp[i], dp[i - 4] + 2)\n",
    "    return dp[budget]\n",
    "\n",
    "def solve_test_case(budget):\n",
    "    return max_k_decker_cheeseburgers(budget)\n",
    "\n",
    "def generate_results(num_tests, results):\n",
    "    return [f\"Case #{i + 1}: {results[i]}\" for i in range(min(num_tests, len(results)))]\n",
    "\n",
    "def main():\n",
    "    data = read_data()\n",
    "    num_tests = data[0]\n",
    "    results = []\n",
    "    index = 1\n",
    "    while index < len(data):\n",
    "        budget = data[index]\n",
    "        index += 1\n",
    "        if budget >= 0:\n",
    "            result = solve_test_case(budget)\n",
    "            results.append(result)\n",
    "        else:\n",
    "            break\n",
    "    print('\\n'.join(generate_results(num_tests, results)))\n",
    "\n",
    "if __name__ == '__main__':\n",
    "    main()"
   ]
  },
  {
   "cell_type": "code",
   "execution_count": 72,
   "metadata": {},
   "outputs": [
    {
     "name": "stdout",
     "output_type": "stream",
     "text": [
      "Extracted code: \n",
      "def main():\n",
      "    import sys\n",
      "    input = sys.stdin.read\n",
      "    data = input().split()\n",
      "    num_tests = int(data[0])\n",
      "    results = []\n",
      "    index = 1\n",
      "    for _ in range(num_tests):\n",
      "        budget = int(data[index])\n",
      "        index += 1\n",
      "        result = calculate_max_decks(budget)\n",
      "        results.append(f\"Case #{len(results) + 1}: {result}\")\n",
      "    print('\n",
      "'.join(results))\n",
      "\n",
      "if __name__ == '__main__':\n",
      "    main()\n",
      "\n"
     ]
    },
    {
     "data": {
      "text/plain": [
       "(True, None)"
      ]
     },
     "execution_count": 72,
     "metadata": {},
     "output_type": "execute_result"
    }
   ],
   "source": [
    "check_code_structure(extracted_code)"
   ]
  },
  {
   "cell_type": "code",
   "execution_count": null,
   "metadata": {},
   "outputs": [],
   "source": []
  }
 ],
 "metadata": {
  "kernelspec": {
   "display_name": "Python 3",
   "language": "python",
   "name": "python3"
  },
  "language_info": {
   "codemirror_mode": {
    "name": "ipython",
    "version": 3
   },
   "file_extension": ".py",
   "mimetype": "text/x-python",
   "name": "python",
   "nbconvert_exporter": "python",
   "pygments_lexer": "ipython3",
   "version": "3.12.4"
  }
 },
 "nbformat": 4,
 "nbformat_minor": 2
}

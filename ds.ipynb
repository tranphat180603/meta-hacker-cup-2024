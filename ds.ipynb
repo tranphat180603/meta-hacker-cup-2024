{
 "cells": [
  {
   "cell_type": "code",
   "execution_count": 2,
   "metadata": {},
   "outputs": [
    {
     "name": "stderr",
     "output_type": "stream",
     "text": [
      "/Library/Frameworks/Python.framework/Versions/3.11/lib/python3.11/site-packages/tqdm/auto.py:21: TqdmWarning: IProgress not found. Please update jupyter and ipywidgets. See https://ipywidgets.readthedocs.io/en/stable/user_install.html\n",
      "  from .autonotebook import tqdm as notebook_tqdm\n"
     ]
    },
    {
     "data": {
      "text/plain": [
       "DatasetDict({\n",
       "    sample: Dataset({\n",
       "        features: ['name', 'year', 'round', 'statement', 'input', 'solution', 'code', 'output', 'sample_input', 'sample_output', 'images'],\n",
       "        num_rows: 10\n",
       "    })\n",
       "    full: Dataset({\n",
       "        features: ['name', 'year', 'round', 'statement', 'input', 'solution', 'code', 'output', 'sample_input', 'sample_output', 'images'],\n",
       "        num_rows: 284\n",
       "    })\n",
       "})"
      ]
     },
     "execution_count": 2,
     "metadata": {},
     "output_type": "execute_result"
    }
   ],
   "source": [
    "from datasets import load_dataset\n",
    "\n",
    "ds = load_dataset(\"hackercupai/hackercup\")\n",
    "ds"
   ]
  },
  {
   "cell_type": "code",
   "execution_count": 6,
   "metadata": {},
   "outputs": [
    {
     "data": {
      "text/plain": [
       "['meta_game',\n",
       " 'tower_rush',\n",
       " 'ready_go_part_2',\n",
       " 'wiki_race',\n",
       " 'ready_go_part_1',\n",
       " 'dim_sum_delivery',\n",
       " 'cheeseburger_corollary_ch1',\n",
       " 'two_apples_a_day',\n",
       " 'cheeseburger_corollary_ch2',\n",
       " 'road_to_nutella']"
      ]
     },
     "execution_count": 6,
     "metadata": {},
     "output_type": "execute_result"
    }
   ],
   "source": [
    "ds['sample']['name']"
   ]
  },
  {
   "cell_type": "code",
   "execution_count": 92,
   "metadata": {},
   "outputs": [],
   "source": [
    "import threading\n",
    "import queue\n",
    "import traceback\n",
    "import sys\n",
    "import io\n",
    "import contextlib\n",
    "from contextlib import contextmanager\n",
    "from unittest.mock import patch\n",
    "\n",
    "class TimeoutException(Exception):\n",
    "    pass\n",
    "\n",
    "class CodeExecutionThread(threading.Thread):\n",
    "    def __init__(self, code_str, test_input):\n",
    "        threading.Thread.__init__(self)\n",
    "        self.code_str = code_str\n",
    "        # Improve input handling\n",
    "        self.test_input_lines = []\n",
    "        if test_input:\n",
    "            # Split input and remove empty lines\n",
    "            self.test_input_lines = [\n",
    "                line for line in test_input.strip().split('\\n')\n",
    "                if line and not line.isspace()\n",
    "            ]\n",
    "        self.original_input_count = len(self.test_input_lines)  # Keep track of original input count\n",
    "        self.input_position = 0  # Track current input position\n",
    "        self.queue = queue.Queue()\n",
    "        self.output = io.StringIO()\n",
    "        \n",
    "    def mock_input(self):\n",
    "        if not self.test_input_lines:\n",
    "            error_msg = (\n",
    "                f\"Input exhausted after reading {self.input_position} lines. \"\n",
    "                f\"Original input had {self.original_input_count} lines. \"\n",
    "                \"Your code is trying to read more input than provided.\"\n",
    "            )\n",
    "            raise ValueError(error_msg)\n",
    "        \n",
    "        self.input_position += 1\n",
    "        return self.test_input_lines.pop(0)\n",
    "        \n",
    "    def run(self):\n",
    "        try:\n",
    "            with patch('builtins.input', self.mock_input), contextlib.redirect_stdout(self.output):\n",
    "                code_obj = compile(self.code_str, '<string>', 'exec')\n",
    "                local_scope = {'__name__': '__main__'}\n",
    "                exec(code_obj, local_scope)\n",
    "            \n",
    "            result = self.output.getvalue()\n",
    "            # Also report if there's unused input\n",
    "            if self.test_input_lines:\n",
    "                unused_lines = len(self.test_input_lines)\n",
    "                result += f\"\\nWarning: {unused_lines} lines of input were not used.\"\n",
    "            \n",
    "            self.queue.put((\"success\", result))\n",
    "                \n",
    "        except Exception as e:\n",
    "            exc_type, exc_value, exc_traceback = sys.exc_info()\n",
    "            tb = traceback.extract_tb(exc_traceback)\n",
    "            line_no = tb[-1].lineno\n",
    "            code_lines = self.code_str.split('\\n')\n",
    "            error_line = code_lines[line_no - 1] if line_no <= len(code_lines) else \"Unknown\"\n",
    "            \n",
    "            # Enhanced error message\n",
    "            error = (\n",
    "                f\"Error on line {line_no}: {error_line.strip()}\\n\"\n",
    "                f\"Exception: {exc_type.__name__}: {str(exc_value)}\\n\"\n",
    "                f\"Input position when error occurred: {self.input_position}\\n\"\n",
    "                f\"Remaining unused input lines: {len(self.test_input_lines)}\"\n",
    "            )\n",
    "            self.queue.put((\"error\", error))\n",
    "\n",
    "def run_code_with_timeout(code_str, test_input, timeout=20):\n",
    "    \"\"\"\n",
    "    Run code with timeout and improved input handling.\n",
    "    \n",
    "    Args:\n",
    "        code_str (str): The Python code to execute\n",
    "        test_input (str): Input data, with lines separated by newlines\n",
    "        timeout (int): Maximum execution time in seconds\n",
    "    \n",
    "    Returns:\n",
    "        tuple: (result, error_message)\n",
    "    \"\"\"\n",
    "    \n",
    "    execution_thread = CodeExecutionThread(code_str, test_input)\n",
    "    execution_thread.start()\n",
    "    execution_thread.join(timeout)\n",
    "    \n",
    "    if execution_thread.is_alive():\n",
    "        execution_thread = None\n",
    "        return None, \"The code execution timed out.\"\n",
    "    \n",
    "    try:\n",
    "        status, result = execution_thread.queue.get_nowait()\n",
    "        if status == \"success\":\n",
    "            return result, None\n",
    "        else:\n",
    "            return None, result\n",
    "    except queue.Empty:\n",
    "        return None, \"Execution failed with no output\""
   ]
  },
  {
   "cell_type": "code",
   "execution_count": 93,
   "metadata": {},
   "outputs": [
    {
     "data": {
      "text/plain": [
       "(None,\n",
       " 'Error on line 37: Unknown\\nException: ValueError: Input exhausted after reading 7 lines. Original input had 7 lines. Your code is trying to read more input than provided.\\nInput position when error occurred: 7\\nRemaining unused input lines: 0')"
      ]
     },
     "execution_count": 93,
     "metadata": {},
     "output_type": "execute_result"
    }
   ],
   "source": [
    "extracted_code = \"import heapq\\n\\n\\ndef generate_hops(R, C, grid):\\n    hops = []\\n    directions = [(0, 1), (1, 0), (0, -1), (-1, 0)]\\n    for i in range(R):\\n        for j in range(C):\\n            for di, dj in directions:\\n                ni, nj = i + di, j + dj\\n                if 0 <= ni < R and 0 <= nj < C and grid[i][j] != grid[ni][nj]:\\n                    score = max(abs(i - ni), abs(j - nj))\\n                    hops.append(score)\\n    return hops\\n\\n\\ndef kth_smallest_score(hops, K):\\n    min_heap = []\\n    for score in hops:\\n        heapq.heappush(min_heap, score)\\n    for _ in range(K - 1):\\n        heapq.heappop(min_heap)\\n    return min_heap[0]\\n\\n\\ndef main():\\n    T = int(input())\\n    for case in range(1, T + 1):\\n        R, C, K = map(int, input().split())\\n        grid = [list(map(int, input().split())) for _ in range(R)]\\n        hops = generate_hops(R, C, grid)\\n        result = kth_smallest_score(hops, K)\\n        print(f'Case #{case}: {result}')\\n\\nif __name__ == '__main__':\\n    main()\"\n",
    "\n",
    "inputs = \"\"\"\n",
    "6\n",
    "121 121 11\n",
    "0 100 2\n",
    "0 132 1\n",
    "121 132 1\n",
    "121 131 1\n",
    "22322 22322 1\n",
    "\"\"\"\n",
    "output = \"\"\"\n",
    "Case #1: 1\n",
    "Case #2: 4\n",
    "Case #3: 10\n",
    "Case #4: 1\n",
    "Case #5: 1\n",
    "Case #6: 0\n",
    "\"\"\"\n",
    "\n",
    "run_code_with_timeout(extracted_code,inputs)"
   ]
  },
  {
   "cell_type": "code",
   "execution_count": null,
   "metadata": {},
   "outputs": [],
   "source": []
  }
 ],
 "metadata": {
  "kernelspec": {
   "display_name": "Python 3",
   "language": "python",
   "name": "python3"
  },
  "language_info": {
   "codemirror_mode": {
    "name": "ipython",
    "version": 3
   },
   "file_extension": ".py",
   "mimetype": "text/x-python",
   "name": "python",
   "nbconvert_exporter": "python",
   "pygments_lexer": "ipython3",
   "version": "3.11.5"
  }
 },
 "nbformat": 4,
 "nbformat_minor": 2
}

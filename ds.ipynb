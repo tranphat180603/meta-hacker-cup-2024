{
 "cells": [
  {
   "cell_type": "code",
   "execution_count": 4,
   "metadata": {},
   "outputs": [
    {
     "data": {
      "text/plain": [
       "DatasetDict({\n",
       "    sample: Dataset({\n",
       "        features: ['name', 'year', 'round', 'statement', 'input', 'solution', 'code', 'output', 'sample_input', 'sample_output', 'images'],\n",
       "        num_rows: 10\n",
       "    })\n",
       "    full: Dataset({\n",
       "        features: ['name', 'year', 'round', 'statement', 'input', 'solution', 'code', 'output', 'sample_input', 'sample_output', 'images'],\n",
       "        num_rows: 284\n",
       "    })\n",
       "})"
      ]
     },
     "execution_count": 4,
     "metadata": {},
     "output_type": "execute_result"
    }
   ],
   "source": [
    "from datasets import load_dataset\n",
    "\n",
    "ds = load_dataset(\"hackercupai/hackercup\")\n",
    "ds"
   ]
  },
  {
   "cell_type": "code",
   "execution_count": 14,
   "metadata": {},
   "outputs": [
    {
     "name": "stdout",
     "output_type": "stream",
     "text": [
      "meta_game\n",
      "tower_rush\n",
      "ready_go_part_2\n",
      "wiki_race\n",
      "ready_go_part_1\n",
      "dim_sum_delivery\n",
      "cheeseburger_corollary_ch1\n",
      "two_apples_a_day\n",
      "cheeseburger_corollary_ch2\n",
      "road_to_nutella\n"
     ]
    }
   ],
   "source": [
    "for split_name, dataset in ds.items():\n",
    "    if split_name == 'sample':\n",
    "        for x in dataset:\n",
    "            print(x['name'])"
   ]
  },
  {
   "cell_type": "code",
   "execution_count": 18,
   "metadata": {},
   "outputs": [
    {
     "name": "stdout",
     "output_type": "stream",
     "text": [
      "Output:\n",
      "\n",
      "\n",
      "Error:\n",
      "Error: ZeroDivisionError at line 6\n",
      "division by zero\n",
      "\n",
      "Problematic line:\n",
      "6: x = 10 / 0\n"
     ]
    }
   ],
   "source": [
    "import sys\n",
    "import io\n",
    "import traceback\n",
    "\n",
    "def execute_code(code_string):\n",
    "    # Redirect stdout and stderr\n",
    "    old_stdout = sys.stdout\n",
    "    old_stderr = sys.stderr\n",
    "    redirected_output = io.StringIO()\n",
    "    redirected_error = io.StringIO()\n",
    "    sys.stdout = redirected_output\n",
    "    sys.stderr = redirected_error\n",
    "\n",
    "    try:\n",
    "        # Execute the code\n",
    "        exec(code_string)\n",
    "        output = redirected_output.getvalue()\n",
    "        error = redirected_error.getvalue()\n",
    "    except Exception as e:\n",
    "        # Catch any exception and get its details\n",
    "        error_type = type(e).__name__\n",
    "        error_message = str(e)\n",
    "        \n",
    "        # Get the traceback\n",
    "        tb = traceback.extract_tb(sys.exc_info()[2])\n",
    "        \n",
    "        # Find the last frame in the traceback that's in our code\n",
    "        for frame in reversed(tb):\n",
    "            if frame.filename == \"<string>\":\n",
    "                line_no = frame.lineno\n",
    "                break\n",
    "        else:\n",
    "            line_no = \"unknown\"\n",
    "        \n",
    "        error = f\"Error: {error_type} at line {line_no}\\n{error_message}\"\n",
    "        \n",
    "        # Add the problematic line to the error message\n",
    "        code_lines = code_string.split('\\n')\n",
    "        if line_no != \"unknown\" and 1 <= line_no <= len(code_lines):\n",
    "            error += f\"\\n\\nProblematic line:\\n{line_no}: {code_lines[line_no-1].strip()}\"\n",
    "        \n",
    "        output = \"\"\n",
    "    finally:\n",
    "        # Restore stdout and stderr\n",
    "        sys.stdout = old_stdout\n",
    "        sys.stderr = old_stderr\n",
    "\n",
    "    return output, error\n",
    "\n",
    "# Example usage\n",
    "code_to_run = \"\"\"\n",
    "def greet(name):\n",
    "    print(f\"Hello, {name}!\")\n",
    "\n",
    "greet(\"Alice\")\n",
    "x = 10 / 0\n",
    "\"\"\"\n",
    "\n",
    "output, error = execute_code(code_to_run)\n",
    "\n",
    "print(\"Output:\")\n",
    "print(output)\n",
    "print(\"\\nError:\")\n",
    "print(error)"
   ]
  }
 ],
 "metadata": {
  "kernelspec": {
   "display_name": "Python 3",
   "language": "python",
   "name": "python3"
  },
  "language_info": {
   "codemirror_mode": {
    "name": "ipython",
    "version": 3
   },
   "file_extension": ".py",
   "mimetype": "text/x-python",
   "name": "python",
   "nbconvert_exporter": "python",
   "pygments_lexer": "ipython3",
   "version": "3.11.4"
  }
 },
 "nbformat": 4,
 "nbformat_minor": 2
}

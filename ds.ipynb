{
 "cells": [
  {
   "cell_type": "code",
   "execution_count": 2,
   "metadata": {},
   "outputs": [
    {
     "name": "stderr",
     "output_type": "stream",
     "text": [
      "/Library/Frameworks/Python.framework/Versions/3.11/lib/python3.11/site-packages/tqdm/auto.py:21: TqdmWarning: IProgress not found. Please update jupyter and ipywidgets. See https://ipywidgets.readthedocs.io/en/stable/user_install.html\n",
      "  from .autonotebook import tqdm as notebook_tqdm\n"
     ]
    },
    {
     "data": {
      "text/plain": [
       "DatasetDict({\n",
       "    sample: Dataset({\n",
       "        features: ['name', 'year', 'round', 'statement', 'input', 'solution', 'code', 'output', 'sample_input', 'sample_output', 'images'],\n",
       "        num_rows: 10\n",
       "    })\n",
       "    full: Dataset({\n",
       "        features: ['name', 'year', 'round', 'statement', 'input', 'solution', 'code', 'output', 'sample_input', 'sample_output', 'images'],\n",
       "        num_rows: 284\n",
       "    })\n",
       "})"
      ]
     },
     "execution_count": 2,
     "metadata": {},
     "output_type": "execute_result"
    }
   ],
   "source": [
    "from datasets import load_dataset\n",
    "\n",
    "ds = load_dataset(\"hackercupai/hackercup\")\n",
    "ds"
   ]
  },
  {
   "cell_type": "code",
   "execution_count": 6,
   "metadata": {},
   "outputs": [
    {
     "data": {
      "text/plain": [
       "['meta_game',\n",
       " 'tower_rush',\n",
       " 'ready_go_part_2',\n",
       " 'wiki_race',\n",
       " 'ready_go_part_1',\n",
       " 'dim_sum_delivery',\n",
       " 'cheeseburger_corollary_ch1',\n",
       " 'two_apples_a_day',\n",
       " 'cheeseburger_corollary_ch2',\n",
       " 'road_to_nutella']"
      ]
     },
     "execution_count": 6,
     "metadata": {},
     "output_type": "execute_result"
    }
   ],
   "source": [
    "ds['sample']['name']"
   ]
  },
  {
   "cell_type": "code",
   "execution_count": 24,
   "metadata": {},
   "outputs": [],
   "source": [
    "import os\n",
    "from unittest.mock import patch\n",
    "import time\n",
    "import re\n",
    "import traceback\n",
    "import sys\n",
    "\n",
    "\n",
    "def check_code_structure(extracted_code):\n",
    "    # Check if the phrase \"__name__ == '__main__'\" is present in the code\n",
    "    if \"__name__ == '__main__'\" not in extracted_code:\n",
    "        return False, \"Missing `if __name__ == '__main__':` block.\"\n",
    "    return True, None\n",
    "\n",
    "def run_extracted_code(extracted_code, test_input):\n",
    "    # Check if the structure of the code is valid\n",
    "    is_valid, error_message = check_code_structure(extracted_code)\n",
    "    \n",
    "    # Output and Error containers\n",
    "    output = io.StringIO()\n",
    "    print(f\"Output: {output.getvalue()}\")\n",
    "    error = None\n",
    "    test_input_lines = [line.strip() for line in test_input.strip().split('\\n') if line.strip()]\n",
    "    \n",
    "    def mock_input():\n",
    "        if not test_input_lines:\n",
    "            raise ValueError(\"Not enough input data provided\")\n",
    "        return test_input_lines.pop(0)\n",
    "\n",
    "    with patch('builtins.input', mock_input), contextlib.redirect_stdout(output):\n",
    "        try:\n",
    "            # Compile the code object\n",
    "            code_obj = compile(extracted_code, '<string>', 'exec')\n",
    "            \n",
    "            if is_valid:\n",
    "                # If `if __name__ == '__main__'` exists, use local scope simulating standalone script behavior\n",
    "                local_scope = {'__name__': '__main__'}\n",
    "                exec(code_obj, local_scope)\n",
    "            else:\n",
    "                # Execute in the global scope if `if __name__ == '__main__'` is not present\n",
    "                exec(extracted_code)\n",
    "\n",
    "        except Exception as e:\n",
    "            exc_type, exc_value, exc_traceback = sys.exc_info()\n",
    "            \n",
    "            # Get the line number where the error occurred\n",
    "            tb = traceback.extract_tb(exc_traceback)\n",
    "            line_no = tb[-1].lineno\n",
    "            \n",
    "            # Get the line of code that caused the error\n",
    "            code_lines = extracted_code.split('\\n')\n",
    "            error_line = code_lines[line_no - 1] if line_no <= len(code_lines) else \"Unknown\"\n",
    "            \n",
    "            error = f\"Error occurred on line {line_no}: \"\n",
    "            error += f\"{error_line.strip()}\\n\"\n",
    "            error += f\"Exception: {exc_type.__name__}: {str(exc_value)}\\n\"\n",
    "            return None, error\n",
    "\n",
    "    result = output.getvalue()\n",
    "    \n",
    "    # Check if the result is empty and return an appropriate error\n",
    "    if not result.strip():\n",
    "        return None, \"Error: Code did not produce any output.\"\n",
    "\n",
    "    return result, error\n",
    "\n",
    "# Compare the output generated by the code with the expected output\n",
    "def compare_with_expected_output(generated_output, expected_output):\n",
    "    # Check if either output is None\n",
    "    if generated_output is None:\n",
    "        return 0, [\"Generated output is None\"]\n",
    "\n",
    "    generated_output_lines = generated_output.strip().splitlines()\n",
    "    expected_output_lines = expected_output.strip().splitlines()\n",
    "\n",
    "    total_cases = len(expected_output_lines)\n",
    "    matching_cases = 0\n",
    "    failed_cases = []\n",
    "\n",
    "    for i, (generated_line, expected_line) in enumerate(zip(generated_output_lines, expected_output_lines), start=1):\n",
    "        if generated_line.strip() == expected_line.strip():\n",
    "            matching_cases += 1\n",
    "        else:\n",
    "            failed_cases.append(f\"Test Case #{i}: Expected '{expected_line}' but got '{generated_line}'\")\n",
    "\n",
    "    score = (matching_cases / total_cases) * 100 if total_cases > 0 else 0\n",
    "    return score, failed_cases\n",
    "\n",
    "# Evaluate generated code on test cases\n",
    "def evaluate_generated_code_on_test_cases(extracted_code, test_input, test_output):\n",
    "    # Run the code and get the output\n",
    "    generated_output, error = run_extracted_code(extracted_code, test_input)\n",
    "    \n",
    "    if generated_output is None or generated_output.strip() == \"\":\n",
    "        return 0, error or \"Error: The code ran without any problem. There's no error in parsing the input. But it produces no output. Please check the entire code again.\", generated_output, []\n",
    "    \n",
    "    # If there's an error, return it\n",
    "    if error:\n",
    "        return 0, error, generated_output, []\n",
    "\n",
    "    # Compare the generated output with expected output\n",
    "    score, failed_cases = compare_with_expected_output(generated_output, test_output)\n",
    "    \n",
    "    if failed_cases:\n",
    "        error_msg = f\"Test cases failed: {failed_cases}\"\n",
    "        return score, error_msg, generated_output, failed_cases\n",
    "\n",
    "    return score, error, generated_output, failed_cases"
   ]
  },
  {
   "cell_type": "code",
   "execution_count": 25,
   "metadata": {},
   "outputs": [],
   "source": [
    "import os \n",
    "\n",
    "def extract_problem_cases_from_folder(dataset_path):\n",
    "    problem_cases = []\n",
    "    \n",
    "    # Traverse the directory structure\n",
    "    for root, dirs, files in os.walk(dataset_path):\n",
    "        # Get the directory name (problem name)\n",
    "        problem_name = os.path.basename(root)\n",
    "        \n",
    "        # Check if the required files are in the current directory\n",
    "        if 'statement.txt' in files and 'sample_in.txt' in files and 'sample_out.txt' in files:\n",
    "            # Read content from the necessary files\n",
    "            with open(os.path.join(root, 'statement.txt'), 'r') as statement_file:\n",
    "                statement = statement_file.read().strip()\n",
    "            \n",
    "            with open(os.path.join(root, 'sample_in.txt'), 'r') as sample_in_file:\n",
    "                sample_input = sample_in_file.read().strip()\n",
    "                \n",
    "            with open(os.path.join(root, 'sample_out.txt'), 'r') as sample_out_file:\n",
    "                sample_output = sample_out_file.read().strip()\n",
    "                \n",
    "            # Concatenate the information into a problem description\n",
    "            problem_description = f\"\"\"\n",
    "{statement}\n",
    "            \n",
    "### Sample Input\n",
    "{sample_input}\n",
    "\n",
    "### Sample Output\n",
    "{sample_output}\n",
    "\"\"\"\n",
    "            \n",
    "            # Add the problem description to the list\n",
    "            problem_cases.append({\n",
    "                \"name\": problem_name,  # The folder name is used as the problem name\n",
    "                \"problem_description\": problem_description,\n",
    "                \"sample_input\": sample_input,\n",
    "                \"sample_output\": sample_output\n",
    "            })\n",
    "    \n",
    "    return problem_cases"
   ]
  },
  {
   "cell_type": "code",
   "execution_count": 32,
   "metadata": {},
   "outputs": [
    {
     "data": {
      "text/plain": [
       "'6\\n4 17\\n1\\n2\\n5\\n10\\n1 100\\n12\\n3 1000000000\\n1000000000\\n1000000000\\n1000000000\\n2 22\\n22\\n22\\n1 10\\n12\\n4 4\\n1\\n2\\n5\\n10'"
      ]
     },
     "execution_count": 32,
     "metadata": {},
     "output_type": "execute_result"
    }
   ],
   "source": [
    "extracted_code = \"def parse_input(input_str):\\n    parts = input_str.strip().split(', ')\\n    if len(parts) != 2:\\n        return False, 'Input string does not contain exactly two elements'\\n    try:\\n        N = int(parts[0])\\n        K = int(parts[1])\\n    except ValueError:\\n        return False, 'Invalid integer value in the input string'\\n    return True, (N, K)\\n\\ndef determine_result(N, K):\\n    return 'YES' if K <= N // 2 else 'NO'\\n\\nif __name__ == '__main__':\\n    sample_input = input()\\n    success, result = parse_input(sample_input)\\n    if success:\\n        print(f'Case #1: {determine_result(*result)}')\\n    else:\\n        print(result)\"\n",
    "sample_input = extract_problem_cases_from_folder(\"./contest_data\")[4]['sample_input']\n",
    "sample_input"
   ]
  },
  {
   "cell_type": "code",
   "execution_count": 33,
   "metadata": {},
   "outputs": [
    {
     "name": "stdout",
     "output_type": "stream",
     "text": [
      "Output: \n"
     ]
    },
    {
     "data": {
      "text/plain": [
       "('Input string does not contain exactly two elements\\n', None)"
      ]
     },
     "execution_count": 33,
     "metadata": {},
     "output_type": "execute_result"
    }
   ],
   "source": [
    "run_extracted_code(extracted_code, sample_input)"
   ]
  },
  {
   "cell_type": "code",
   "execution_count": 34,
   "metadata": {},
   "outputs": [
    {
     "name": "stderr",
     "output_type": "stream",
     "text": [
      "<>:1: SyntaxWarning: invalid escape sequence '\\('\n",
      "<>:1: SyntaxWarning: invalid escape sequence '\\('\n",
      "C:\\Users\\Admin\\AppData\\Local\\Temp\\ipykernel_4000\\4132099597.py:1: SyntaxWarning: invalid escape sequence '\\('\n",
      "  understanding = \"\"\"\n"
     ]
    }
   ],
   "source": [
    "understanding = \"\"\"\n",
    "{\n",
    "  \"understanding\": {\n",
    "    \"goal\": \"Determine whether a group of travelers can cross a narrow bridge within a given time limit \\(K\\) using a flashlight and a wheelbarrow, where each traveler has a specific time to cross alone or with another traveler.\",\n",
    "    \"constraints\": [\n",
    "      \"The bridge can only support the weight of at most 2 people.\",\n",
    "      \"Travelers must stay together and use the flashlight while on the bridge.\",\n",
    "      \"A traveler can cross alone in \\(S_i\\) seconds or with another traveler in \\(S_i\\) seconds using the wheelbarrow.\",\n",
    "      \"The flashlight must always be brought back to the initial side after each trip.\",\n",
    "      \"The total time taken for all travelers to cross must not exceed \\(K\\) seconds.\"\n",
    "    ],\n",
    "    \"test_cases\": {\n",
    "      \"input_format\": \"The input starts with an integer \\(T\\), the number of test cases. Each test case consists of two lines: the first line contains \\(N\\) and \\(K\\), and the next \\(N\\) lines contain the individual times \\(S_i\\).\",\n",
    "      \"output_format\": \"For each test case, output 'Case #i: YES' if all travelers can cross within \\(K\\) seconds, otherwise output 'Case #i: NO'.\"\n",
    "    },\n",
    "    \"important_ideas\": [\n",
    "      \"The optimal strategy involves pairing travelers optimally to minimize the total crossing time.\",\n",
    "      \"Using the wheelbarrow effectively can reduce the overall time by allowing faster travelers to help slower ones.\",\n",
    "      \"The problem requires careful consideration of the order in which travelers cross and return with the flashlight.\"\n",
    "    ],\n",
    "    \"difficulty_assessment\": {\n",
    "      \"estimated_difficulty\": \"Medium\",\n",
    "      \"justification\": \"The problem involves combinatorial optimization and requires strategic thinking about when to pair travelers and when to use the wheelbarrow. While not extremely complex, it demands careful planning and analysis to ensure all travelers can cross within the given time limit.\"\n",
    "    }\n",
    "  }\n",
    "}\n",
    "\"\"\""
   ]
  },
  {
   "cell_type": "code",
   "execution_count": null,
   "metadata": {},
   "outputs": [],
   "source": []
  }
 ],
 "metadata": {
  "kernelspec": {
   "display_name": "base",
   "language": "python",
   "name": "python3"
  },
  "language_info": {
   "codemirror_mode": {
    "name": "ipython",
    "version": 3
   },
   "file_extension": ".py",
   "mimetype": "text/x-python",
   "name": "python",
   "nbconvert_exporter": "python",
   "pygments_lexer": "ipython3",
   "version": "3.12.2"
  }
 },
 "nbformat": 4,
 "nbformat_minor": 2
}

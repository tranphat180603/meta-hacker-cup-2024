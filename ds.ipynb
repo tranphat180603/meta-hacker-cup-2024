{
 "cells": [
  {
   "cell_type": "code",
   "execution_count": 4,
   "metadata": {},
   "outputs": [
    {
     "data": {
      "text/plain": [
       "DatasetDict({\n",
       "    sample: Dataset({\n",
       "        features: ['name', 'year', 'round', 'statement', 'input', 'solution', 'code', 'output', 'sample_input', 'sample_output', 'images'],\n",
       "        num_rows: 10\n",
       "    })\n",
       "    full: Dataset({\n",
       "        features: ['name', 'year', 'round', 'statement', 'input', 'solution', 'code', 'output', 'sample_input', 'sample_output', 'images'],\n",
       "        num_rows: 284\n",
       "    })\n",
       "})"
      ]
     },
     "execution_count": 4,
     "metadata": {},
     "output_type": "execute_result"
    }
   ],
   "source": [
    "from datasets import load_dataset\n",
    "\n",
    "ds = load_dataset(\"hackercupai/hackercup\")\n",
    "ds"
   ]
  },
  {
   "cell_type": "code",
   "execution_count": 14,
   "metadata": {},
   "outputs": [
    {
     "name": "stdout",
     "output_type": "stream",
     "text": [
      "meta_game\n",
      "tower_rush\n",
      "ready_go_part_2\n",
      "wiki_race\n",
      "ready_go_part_1\n",
      "dim_sum_delivery\n",
      "cheeseburger_corollary_ch1\n",
      "two_apples_a_day\n",
      "cheeseburger_corollary_ch2\n",
      "road_to_nutella\n"
     ]
    }
   ],
   "source": [
    "for split_name, dataset in ds.items():\n",
    "    if split_name == 'sample':\n",
    "        for x in dataset:\n",
    "            print(x['name'])"
   ]
  },
  {
   "cell_type": "code",
   "execution_count": 56,
   "metadata": {},
   "outputs": [
    {
     "name": "stdout",
     "output_type": "stream",
     "text": [
      "\n"
     ]
    }
   ],
   "source": [
    "import io\n",
    "import traceback\n",
    "import contextlib\n",
    "from unittest.mock import patch\n",
    "\n",
    "# Function to execute the extracted python code in memory with mocked input()\n",
    "def run_extracted_code(extracted_code, test_input):\n",
    "    output = io.StringIO()\n",
    "    error = None\n",
    "    test_input_lines = iter(test_input.splitlines())\n",
    "    with patch('builtins.input', lambda: next(test_input_lines)), contextlib.redirect_stdout(output):\n",
    "        try:\n",
    "            # Executing the code\n",
    "            exec(extracted_code, {\"__name__\": \"__main__\"})\n",
    "            # If main() is defined, call it manually after exec()\n",
    "            if 'main' in locals():\n",
    "                main()\n",
    "        except Exception as e:\n",
    "            error = traceback.format_exc()\n",
    "    return output.getvalue(), error\n",
    "\n",
    "# Example extracted code\n",
    "extracted_code = \"\"\"\n",
    "import math\n",
    "def calculate_p_increase(N, P):\n",
    "    P_decimal = P / 100\n",
    "    P_prime = 100 * math.pow(P_decimal, (N-1)/N)\n",
    "    return P_prime - P\n",
    "\n",
    "def main():\n",
    "    T = int(input())\n",
    "    results = []\n",
    "    for i in range(1, T+1):\n",
    "        N, P = map(int, input().split())\n",
    "        result = calculate_p_increase(N, P)\n",
    "        results.append(f\"Case #{{i}}: {{result}}\")\n",
    "    for result in results:\n",
    "        print(result)\n",
    "\"\"\"\n",
    "\n",
    "# Test input\n",
    "t_input = \"\"\"\n",
    "4\n",
    "2 50\n",
    "950 95\n",
    "13 37\n",
    "3 10\n",
    "\"\"\"\n",
    "\n",
    "# Run the code with mocked input\n",
    "output, error = run_extracted_code(extracted_code, t_input)\n",
    "if error:\n",
    "    print(\"Error occurred:\", error)\n",
    "else:\n",
    "    print(output)\n"
   ]
  },
  {
   "cell_type": "code",
   "execution_count": null,
   "metadata": {},
   "outputs": [],
   "source": []
  }
 ],
 "metadata": {
  "kernelspec": {
   "display_name": "Python 3",
   "language": "python",
   "name": "python3"
  },
  "language_info": {
   "codemirror_mode": {
    "name": "ipython",
    "version": 3
   },
   "file_extension": ".py",
   "mimetype": "text/x-python",
   "name": "python",
   "nbconvert_exporter": "python",
   "pygments_lexer": "ipython3",
   "version": "3.11.4"
  }
 },
 "nbformat": 4,
 "nbformat_minor": 2
}

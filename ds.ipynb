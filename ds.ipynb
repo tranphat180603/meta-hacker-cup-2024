{
 "cells": [
  {
   "cell_type": "code",
   "execution_count": 2,
   "metadata": {},
   "outputs": [
    {
     "name": "stderr",
     "output_type": "stream",
     "text": [
      "/Library/Frameworks/Python.framework/Versions/3.11/lib/python3.11/site-packages/tqdm/auto.py:21: TqdmWarning: IProgress not found. Please update jupyter and ipywidgets. See https://ipywidgets.readthedocs.io/en/stable/user_install.html\n",
      "  from .autonotebook import tqdm as notebook_tqdm\n"
     ]
    },
    {
     "data": {
      "text/plain": [
       "DatasetDict({\n",
       "    sample: Dataset({\n",
       "        features: ['name', 'year', 'round', 'statement', 'input', 'solution', 'code', 'output', 'sample_input', 'sample_output', 'images'],\n",
       "        num_rows: 10\n",
       "    })\n",
       "    full: Dataset({\n",
       "        features: ['name', 'year', 'round', 'statement', 'input', 'solution', 'code', 'output', 'sample_input', 'sample_output', 'images'],\n",
       "        num_rows: 284\n",
       "    })\n",
       "})"
      ]
     },
     "execution_count": 2,
     "metadata": {},
     "output_type": "execute_result"
    }
   ],
   "source": [
    "from datasets import load_dataset\n",
    "\n",
    "ds = load_dataset(\"hackercupai/hackercup\")\n",
    "ds"
   ]
  },
  {
   "cell_type": "code",
   "execution_count": 6,
   "metadata": {},
   "outputs": [
    {
     "data": {
      "text/plain": [
       "['meta_game',\n",
       " 'tower_rush',\n",
       " 'ready_go_part_2',\n",
       " 'wiki_race',\n",
       " 'ready_go_part_1',\n",
       " 'dim_sum_delivery',\n",
       " 'cheeseburger_corollary_ch1',\n",
       " 'two_apples_a_day',\n",
       " 'cheeseburger_corollary_ch2',\n",
       " 'road_to_nutella']"
      ]
     },
     "execution_count": 6,
     "metadata": {},
     "output_type": "execute_result"
    }
   ],
   "source": [
    "ds['sample']['name']"
   ]
  },
  {
   "cell_type": "code",
   "execution_count": 30,
   "metadata": {},
   "outputs": [],
   "source": [
    "import io\n",
    "from unittest.mock import patch\n",
    "import traceback\n",
    "import sys\n",
    "import contextlib\n",
    "import threading\n",
    "\n",
    "def check_code_structure(extracted_code):\n",
    "    # Check if the phrase \"__name__ == '__main__'\" is present in the code\n",
    "    if \"__name__ == '__main__'\" not in extracted_code:\n",
    "        return False, \"Missing `if __name__ == '__main__':` block.\"\n",
    "    return True, None\n",
    "\n",
    "class TimeoutException(Exception):\n",
    "    pass\n",
    "\n",
    "def run_with_timeout(func, args, timeout):\n",
    "    result = [None]\n",
    "    exception = [None]\n",
    "\n",
    "    def worker():\n",
    "        try:\n",
    "            result[0] = func(*args)\n",
    "        except Exception as e:\n",
    "            exception[0] = e\n",
    "\n",
    "    thread = threading.Thread(target=worker)\n",
    "    thread.start()\n",
    "    thread.join(timeout)\n",
    "    if thread.is_alive():\n",
    "        raise TimeoutException(\n",
    "            \"The previous code execution timed out. This may indicate a performance issue, such as an infinite loop or inefficient logic. \"\n",
    "            \"The input provided was sufficiently small and valid, so the problem is likely due to a flaw in the code logic rather than the input itself. \"\n",
    "            \"Please review the code for potential errors or inefficiencies that could cause it to run indefinitely or take an excessive amount of time.\"\n",
    "        )\n",
    "    if exception[0]:\n",
    "        raise exception[0]\n",
    "    return result[0]\n",
    "\n",
    "def check_code_structure(extracted_code):\n",
    "    if \"__name__ == '__main__'\" not in extracted_code:\n",
    "        return False, \"Missing `if __name__ == '__main__':` block.\"\n",
    "    return True, None\n",
    "\n",
    "def run_extracted_code_with_timeout(extracted_code, test_input, timeout=20):\n",
    "    is_valid, error_message = check_code_structure(extracted_code)\n",
    "    if not is_valid:\n",
    "        return None, error_message\n",
    "\n",
    "    output = io.StringIO()\n",
    "    error = None\n",
    "    test_input_lines = [line.strip() for line in test_input.strip().split('\\n') if line.strip()]\n",
    "\n",
    "    def mock_input():\n",
    "        if not test_input_lines:\n",
    "            raise ValueError(\"No input data provided\")\n",
    "        return test_input_lines.pop(0)\n",
    "\n",
    "    def execute_code():\n",
    "        nonlocal error\n",
    "        try:\n",
    "            with patch('builtins.input', mock_input), contextlib.redirect_stdout(output):\n",
    "                code_obj = compile(extracted_code, '<string>', 'exec')\n",
    "                local_scope = {'__name__': '__main__'}\n",
    "                exec(code_obj, local_scope)\n",
    "        except Exception as e:\n",
    "            exc_type, exc_value, exc_traceback = sys.exc_info()\n",
    "            tb = traceback.extract_tb(exc_traceback)\n",
    "            line_no = tb[-1].lineno\n",
    "            code_lines = extracted_code.split('\\n')\n",
    "            error_line = code_lines[line_no - 1] if line_no <= len(code_lines) else \"Unknown\"\n",
    "            error = f\"Error on line {line_no}: {error_line.strip()}\\nException: {exc_type.__name__}: {str(exc_value)}\"\n",
    "\n",
    "    try:\n",
    "        run_with_timeout(execute_code, (), timeout)\n",
    "    except TimeoutException as e:\n",
    "        return None, f\"Error: {str(e)}\"\n",
    "\n",
    "    if error:\n",
    "        return None, error\n",
    "\n",
    "    result = output.getvalue()\n",
    "    if not result.strip():\n",
    "        return None, \"Error: Code did not produce any output.\"\n",
    "\n",
    "    return result, None\n",
    "\n",
    "# Compare the output generated by the code with the expected output\n",
    "def compare_with_expected_output(generated_output, expected_output):\n",
    "    # Check if either output is None\n",
    "    if generated_output is None:\n",
    "        return 0, [\"Generated output is None\"]\n",
    "\n",
    "    generated_output_lines = generated_output.strip().splitlines()\n",
    "    expected_output_lines = expected_output.strip().splitlines()\n",
    "\n",
    "    total_cases = len(expected_output_lines)\n",
    "    matching_cases = 0\n",
    "    failed_cases = []\n",
    "\n",
    "    for i, (generated_line, expected_line) in enumerate(zip(generated_output_lines, expected_output_lines), start=1):\n",
    "        if generated_line.strip() == expected_line.strip():\n",
    "            matching_cases += 1\n",
    "        else:\n",
    "            failed_cases.append(f\"Test Case #{i}: Expected '{expected_line}' but got '{generated_line}'\")\n",
    "\n",
    "    score = (matching_cases / total_cases) * 100 if total_cases > 0 else 0\n",
    "    return score, failed_cases\n",
    "\n",
    "# Evaluate generated code on test cases\n",
    "def evaluate_generated_code_on_test_cases(extracted_code, test_input, test_output):\n",
    "    # Run the code and get the output\n",
    "    generated_output, error = run_extracted_code_with_timeout(extracted_code, test_input)\n",
    "    \n",
    "    if generated_output is None or generated_output.strip() == \"\":\n",
    "        return 0, error or \"Error: The code ran without any problem. There's no error in parsing the input. But it produces no output. Please check the entire code again.\", generated_output, []\n",
    "    \n",
    "    # If there's an error, return it\n",
    "    if error:\n",
    "        return 0, error, generated_output, []\n",
    "\n",
    "    # Compare the generated output with expected output\n",
    "    score, failed_cases = compare_with_expected_output(generated_output, test_output)\n",
    "    \n",
    "    if failed_cases:\n",
    "        error_msg = f\"Test cases failed: {failed_cases}\"\n",
    "        return score, error_msg, generated_output, failed_cases\n",
    "\n",
    "    return score, error, generated_output, failed_cases"
   ]
  },
  {
   "cell_type": "code",
   "execution_count": 33,
   "metadata": {},
   "outputs": [
    {
     "data": {
      "text/plain": [
       "(0,\n",
       " \"Error on line 1: import a\\nException: ModuleNotFoundError: No module named 'a'\",\n",
       " None,\n",
       " [])"
      ]
     },
     "execution_count": 33,
     "metadata": {},
     "output_type": "execute_result"
    }
   ],
   "source": [
    "extracted_code = \"import a\\n\\ndef get_slope_intercept(a, b):\\n    dx, dy = b[0] - a[0], b[1] - a[1]\\n    if dx == 0:\\n        return (math.inf, a[0])  # Vertical line\\n    if dy == 0:\\n        return (0, a[1])  # Horizontal line\\n    slope = dy / dx\\n    intercept = a[1] - slope * a[0]\\n    return (slope, intercept)\\n\\ndef count_ants_on_line(ants, slope, intercept):\\n    return sum(1 for ant in ants if abs(ant[1] - (slope * ant[0] + intercept)) < 1e-9)\\n\\ndef calculate_min_moves_to_align(ants):\\n    lines = {}\\n    for i in range(len(ants)):\\n        for j in range(i + 1, len(ants)):\\n            slope, intercept = get_slope_intercept(ants[i], ants[j])\\n            if (slope, intercept) not in lines:\\n                lines[(slope, intercept)] = []\\n            lines[(slope, intercept)].append((ants[i], ants[j]))\\n    max_aligned = 0\\n    for line in lines.values():\\n        unique_ants = set()\\n        for pair in line:\\n            unique_ants.update(pair)\\n        max_aligned = max(max_aligned, len(unique_ants))\\n    return len(ants) - max_aligned\\n\\nif __name__ == '__main__':\\n    results = []\\n    T = int(input())\\n    for _ in range(T):\\n        N = int(input())\\n        ants = [tuple(map(int, input().split())) for _ in range(N)]\\n        min_moves = calculate_min_moves_to_align(ants)\\n        results.append(f'Case #{_ + 1}: {min_moves}')\\n    print('\\\\n'.join(results))\"\n",
    "\n",
    "inputs = \"\"\"\n",
    "3\n",
    "7\n",
    "4 8\n",
    "2 4\n",
    "7 2\n",
    "6 10\n",
    "0 1\n",
    "3 4\n",
    "4 7\n",
    "4\n",
    "1 1\n",
    "-1 1\n",
    "1 -1\n",
    "-1 -1\n",
    "4\n",
    "1 1\n",
    "2 2\n",
    "-3 -3\n",
    "4 4\n",
    "\"\"\"\n",
    "output = \"\"\"\n",
    "Case #1: 3\n",
    "Case #2: 2\n",
    "Case #3: 0\n",
    "\"\"\"\n",
    "\n",
    "evaluate_generated_code_on_test_cases(extracted_code,inputs,output)"
   ]
  },
  {
   "cell_type": "code",
   "execution_count": null,
   "metadata": {},
   "outputs": [],
   "source": []
  }
 ],
 "metadata": {
  "kernelspec": {
   "display_name": "Python 3",
   "language": "python",
   "name": "python3"
  },
  "language_info": {
   "codemirror_mode": {
    "name": "ipython",
    "version": 3
   },
   "file_extension": ".py",
   "mimetype": "text/x-python",
   "name": "python",
   "nbconvert_exporter": "python",
   "pygments_lexer": "ipython3",
   "version": "3.11.5"
  }
 },
 "nbformat": 4,
 "nbformat_minor": 2
}

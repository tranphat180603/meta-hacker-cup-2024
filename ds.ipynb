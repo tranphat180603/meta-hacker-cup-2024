{
 "cells": [
  {
   "cell_type": "code",
   "execution_count": 4,
   "metadata": {},
   "outputs": [
    {
     "data": {
      "text/plain": [
       "DatasetDict({\n",
       "    sample: Dataset({\n",
       "        features: ['name', 'year', 'round', 'statement', 'input', 'solution', 'code', 'output', 'sample_input', 'sample_output', 'images'],\n",
       "        num_rows: 10\n",
       "    })\n",
       "    full: Dataset({\n",
       "        features: ['name', 'year', 'round', 'statement', 'input', 'solution', 'code', 'output', 'sample_input', 'sample_output', 'images'],\n",
       "        num_rows: 284\n",
       "    })\n",
       "})"
      ]
     },
     "execution_count": 4,
     "metadata": {},
     "output_type": "execute_result"
    }
   ],
   "source": [
    "from datasets import load_dataset\n",
    "\n",
    "ds = load_dataset(\"hackercupai/hackercup\")\n",
    "ds"
   ]
  },
  {
   "cell_type": "code",
   "execution_count": 14,
   "metadata": {},
   "outputs": [
    {
     "name": "stdout",
     "output_type": "stream",
     "text": [
      "meta_game\n",
      "tower_rush\n",
      "ready_go_part_2\n",
      "wiki_race\n",
      "ready_go_part_1\n",
      "dim_sum_delivery\n",
      "cheeseburger_corollary_ch1\n",
      "two_apples_a_day\n",
      "cheeseburger_corollary_ch2\n",
      "road_to_nutella\n"
     ]
    }
   ],
   "source": [
    "for split_name, dataset in ds.items():\n",
    "    if split_name == 'sample':\n",
    "        for x in dataset:\n",
    "            print(x['name'])"
   ]
  },
  {
   "cell_type": "code",
   "execution_count": 26,
   "metadata": {},
   "outputs": [
    {
     "name": "stdout",
     "output_type": "stream",
     "text": [
      "6\n",
      "2 3 5\n",
      "2 3 2\n",
      "2 3 1\n",
      "5 1 100\n",
      "1 3 100\n",
      "1 1 1000000000000\n",
      "\n"
     ]
    }
   ],
   "source": [
    "# Function to execute the extracted python code in memory with mocked input()\n",
    "def run_extracted_code(extracted_code, test_input):\n",
    "    output = io.StringIO()\n",
    "    error = None\n",
    "    test_input_lines = iter(test_input.splitlines())\n",
    "    with patch('builtins.input', lambda: next(test_input_lines)), contextlib.redirect_stdout(output):\n",
    "        try:\n",
    "            exec(extracted_code, {\"__name__\": \"__main__\"})\n",
    "        except Exception as e:\n",
    "            error = traceback.format_exc()\n",
    "    return output.getvalue(), error\n",
    "\n",
    "test_input = ds['sample']['sample_input'][-2]\n",
    "test_input_lines = iter(test_input.splitlines())\n",
    "print(test_input)\n"
   ]
  },
  {
   "cell_type": "code",
   "execution_count": null,
   "metadata": {},
   "outputs": [],
   "source": [
    "next()"
   ]
  }
 ],
 "metadata": {
  "kernelspec": {
   "display_name": "Python 3",
   "language": "python",
   "name": "python3"
  },
  "language_info": {
   "codemirror_mode": {
    "name": "ipython",
    "version": 3
   },
   "file_extension": ".py",
   "mimetype": "text/x-python",
   "name": "python",
   "nbconvert_exporter": "python",
   "pygments_lexer": "ipython3",
   "version": "3.11.4"
  }
 },
 "nbformat": 4,
 "nbformat_minor": 2
}
